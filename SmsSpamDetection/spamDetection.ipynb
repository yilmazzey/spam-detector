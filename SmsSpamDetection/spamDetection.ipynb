{
 "cells": [
  {
   "cell_type": "code",
   "execution_count": null,
   "metadata": {},
   "outputs": [],
   "source": [
    "import numpy as np\n",
    "import pandas as pd"
   ]
  },
  {
   "cell_type": "markdown",
   "metadata": {},
   "source": [
    "Data exploration & cleaning"
   ]
  },
  {
   "cell_type": "code",
   "execution_count": null,
   "metadata": {},
   "outputs": [],
   "source": [
    "data= pd.read_csv(\"spam.csv\", encoding=\"latin-1\")\n",
    "data.head()"
   ]
  },
  {
   "cell_type": "code",
   "execution_count": null,
   "metadata": {},
   "outputs": [],
   "source": [
    "data.isnull().sum()"
   ]
  },
  {
   "cell_type": "code",
   "execution_count": null,
   "metadata": {},
   "outputs": [],
   "source": [
    "data[\"Unnamed: 2\"].unique()\n"
   ]
  },
  {
   "cell_type": "code",
   "execution_count": null,
   "metadata": {},
   "outputs": [],
   "source": [
    "data[\"Unnamed: 3\"].unique()"
   ]
  },
  {
   "cell_type": "code",
   "execution_count": null,
   "metadata": {},
   "outputs": [],
   "source": [
    "#columns Unnamed 2,3,4 has a lot of missing data, some of the sms text\n",
    "#seems to be overflowing to those columns\n",
    "#i will concatonate the rest of the sms messages and clear out the rest\n",
    "\n",
    "\n",
    "overflow_rows= data.iloc[:,2:].notnull().any(axis=1)\n",
    "\n",
    "for index,row in data[overflow_rows].iterrows():\n",
    "    overflow_sms= row[2:][row[2:].notnull()].tolist()\n",
    "    data.at[index,\"v2\"] += \" \".join(overflow_sms)\n",
    "\n",
    "data.drop(data.columns[2:], axis=1, inplace=True)\n",
    "\n",
    "data.head()"
   ]
  },
  {
   "cell_type": "markdown",
   "metadata": {},
   "source": [
    "Preprocessing"
   ]
  },
  {
   "cell_type": "code",
   "execution_count": null,
   "metadata": {},
   "outputs": [],
   "source": [
    "from sklearn.preprocessing import LabelEncoder\n",
    "from sklearn.model_selection import train_test_split"
   ]
  },
  {
   "cell_type": "code",
   "execution_count": null,
   "metadata": {},
   "outputs": [],
   "source": [
    "#encoding ham & spam\n",
    "encoder= LabelEncoder()\n",
    "data[\"v1\"]=encoder.fit_transform(data[\"v1\"])\n",
    "#creating a dictionary for the encoding\n",
    "class_mappings={index: label for index, label in enumerate(encoder.classes_)}\n",
    "class_mappings"
   ]
  },
  {
   "cell_type": "markdown",
   "metadata": {},
   "source": [
    "Tokenization & stemming & parsing"
   ]
  },
  {
   "cell_type": "code",
   "execution_count": null,
   "metadata": {},
   "outputs": [],
   "source": [
    "#NLP libraries \n",
    "import re\n",
    "from nltk.stem import PorterStemmer\n",
    "from nltk.tokenize import word_tokenize"
   ]
  },
  {
   "cell_type": "code",
   "execution_count": null,
   "metadata": {},
   "outputs": [],
   "source": [
    "print(data.dtypes)"
   ]
  },
  {
   "cell_type": "code",
   "execution_count": null,
   "metadata": {},
   "outputs": [],
   "source": [
    "#function to cut non-alphabetic characters, stem and tokenize\n",
    "def processSms(text):\n",
    "    ps=PorterStemmer()\n",
    "    text = text.lower()\n",
    "    text = re.sub(r'[^a-zA-Z\\s]','',text )\n",
    "    tokens = word_tokenize(text)\n",
    "    stemmed_tokens =[ps.stem(word) for word in tokens]\n",
    "    return stemmed_tokens\n",
    "\n",
    "data[\"processed_sms\"] = data[\"v2\"].apply(processSms)\n",
    "\n",
    "data.head()"
   ]
  },
  {
   "cell_type": "code",
   "execution_count": null,
   "metadata": {},
   "outputs": [],
   "source": [
    "\n",
    "data['processed_sms'] = data['processed_sms'].apply(lambda x: ' '.join(map(str, x)))\n"
   ]
  },
  {
   "cell_type": "code",
   "execution_count": null,
   "metadata": {},
   "outputs": [],
   "source": [
    "#i wanted to know if there are any links or mail addreses shared in sms texts\n",
    "def detect_links_emails(text):\n",
    "    # Regular expressions for links and email addresses\n",
    "    link_pattern = r'http[s]?://(?:[a-zA-Z]|[0-9]|[$-_@.&+]|[!*\\\\(\\\\),]|(?:%[0-9a-fA-F][0-9a-fA-F]))+'\n",
    "    email_pattern = r'\\b[A-Za-z0-9._%+-]+@[A-Za-z0-9.-]+\\.[A-Z|a-z]{2,}\\b'\n",
    "\n",
    "    links = re.findall(link_pattern, text)\n",
    "    emails = re.findall(email_pattern, text)\n",
    "\n",
    "    return links, emails\n",
    "\n",
    "links_emails = data['processed_sms'].apply(detect_links_emails)\n",
    "\n",
    "\n",
    "any_links_emails = any(links_emails)\n",
    "print(\"Any links or email addresses in the 'v2' column:\", any_links_emails)\n"
   ]
  },
  {
   "cell_type": "code",
   "execution_count": null,
   "metadata": {},
   "outputs": [],
   "source": [
    "#masking the links and mails as httpaddr and mailaddr\n",
    "def mask_links_emails(text):\n",
    "    # Regular expressions for links and email addresses\n",
    "    link_pattern = r'http[s]?://(?:[a-zA-Z]|[0-9]|[$-_@.&+]|[!*\\\\(\\\\),]|(?:%[0-9a-fA-F][0-9a-fA-F]))+'\n",
    "    email_pattern = r'\\b[A-Za-z0-9._%+-]+@[A-Za-z0-9.-]+\\.[A-Z|a-z]{2,}\\b'\n",
    "\n",
    "    text = re.sub(link_pattern, 'httpaddr', text)\n",
    "    text = re.sub(email_pattern, 'mailaddr', text)\n",
    "\n",
    "    return text\n",
    "data[\"processed_sms\"] = data[\"processed_sms\"].apply(mask_links_emails)\n"
   ]
  },
  {
   "cell_type": "code",
   "execution_count": null,
   "metadata": {},
   "outputs": [],
   "source": [
    "# Function to convert tokens to feature vectors\n",
    "def getFeatureVector(tokens, vocab):\n",
    "    feature_vec = np.zeros(len(vocab))\n",
    "    for token in tokens:\n",
    "        if token in vocab:\n",
    "            feature_vec[vocab[token]] = 1\n",
    "    return feature_vec\n",
    "# Convert tokens to vocabulary indices\n",
    "all_words = [word for tokens in data['processed_sms'] for word in tokens]\n",
    "unique_words = list(set(all_words))\n",
    "vocab = {word: index for index, word in enumerate(unique_words)}\n",
    "\n",
    "# Prepare X and y data\n",
    "X = np.array([getFeatureVector(tokens, vocab) for tokens in data['processed_sms']])\n",
    "y = data[\"v1\"]\n"
   ]
  },
  {
   "cell_type": "markdown",
   "metadata": {},
   "source": [
    "train test split"
   ]
  },
  {
   "cell_type": "code",
   "execution_count": null,
   "metadata": {},
   "outputs": [],
   "source": [
    "from sklearn.model_selection import train_test_split\n",
    "X_train, X_test, y_train, y_test = train_test_split(X, y, test_size=0.8, random_state=42)"
   ]
  },
  {
   "cell_type": "code",
   "execution_count": null,
   "metadata": {},
   "outputs": [],
   "source": [
    "#Modeling - Training\n",
    "from sklearn.svm import SVC\n",
    "from sklearn.metrics import f1_score\n",
    "\n",
    "# Train SVM model\n",
    "svm = SVC(kernel= \"linear\")\n",
    "svm.fit(X_train, y_train)\n",
    "\n",
    "accuracy = svm.score(X_test, y_test)\n",
    "print(\"Accuracy:\", accuracy)\n",
    "\n",
    "y_pred = svm.predict(X_test)\n",
    "f1_score(y_test, y_pred)"
   ]
  }
 ],
 "metadata": {
  "kernelspec": {
   "display_name": "Python 3",
   "language": "python",
   "name": "python3"
  },
  "language_info": {
   "codemirror_mode": {
    "name": "ipython",
    "version": 3
   },
   "file_extension": ".py",
   "mimetype": "text/x-python",
   "name": "python",
   "nbconvert_exporter": "python",
   "pygments_lexer": "ipython3",
   "version": "3.11.1"
  }
 },
 "nbformat": 4,
 "nbformat_minor": 2
}
